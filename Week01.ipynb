{
 "cells": [
  {
   "cell_type": "markdown",
   "id": "30a8e350",
   "metadata": {},
   "source": [
    "# This is a Header\n",
    "\n",
    "## Second-level header\n",
    "\n",
    "### Third-level header\n",
    "\n",
    "aaaaaaa"
   ]
  },
  {
   "cell_type": "code",
   "execution_count": 12,
   "id": "bb4fb7be",
   "metadata": {},
   "outputs": [
    {
     "name": "stdout",
     "output_type": "stream",
     "text": [
      "hello world!\n"
     ]
    }
   ],
   "source": [
    "print( \"hello world!\" )"
   ]
  },
  {
   "cell_type": "markdown",
   "id": "958b794e",
   "metadata": {},
   "source": [
    "Bold text **like this**\n",
    "\n",
    "Italics *like this*"
   ]
  },
  {
   "cell_type": "markdown",
   "id": "c848b138",
   "metadata": {},
   "source": [
    "日本語\n"
   ]
  },
  {
   "cell_type": "markdown",
   "id": "267a240d",
   "metadata": {},
   "source": [
    "Horizontal Line:\n",
    "\n",
    "___"
   ]
  },
  {
   "cell_type": "markdown",
   "id": "2b53ce67",
   "metadata": {},
   "source": [
    "Here is a [link](www.google.co.jp)"
   ]
  },
  {
   "cell_type": "markdown",
   "id": "fba50bc3",
   "metadata": {},
   "source": [
    "Lists:\n",
    "\n",
    "- item 1\n",
    "- item 2\n",
    "- item 3"
   ]
  },
  {
   "cell_type": "markdown",
   "id": "812b2311",
   "metadata": {},
   "source": [
    "Numbered lists:\n",
    "\n",
    "1. Item 1\n",
    "2. Item 2\n",
    "3. Item 3"
   ]
  },
  {
   "cell_type": "markdown",
   "id": "d9c24dce",
   "metadata": {},
   "source": [
    "```\n",
    "void hello()\n",
    "{\n",
    "console.log(\"Hello World!\");\n",
    "}\n",
    "```"
   ]
  },
  {
   "cell_type": "markdown",
   "id": "32d1846d",
   "metadata": {},
   "source": []
  }
 ],
 "metadata": {
  "kernelspec": {
   "display_name": ".venv",
   "language": "python",
   "name": "python3"
  },
  "language_info": {
   "codemirror_mode": {
    "name": "ipython",
    "version": 3
   },
   "file_extension": ".py",
   "mimetype": "text/x-python",
   "name": "python",
   "nbconvert_exporter": "python",
   "pygments_lexer": "ipython3",
   "version": "3.12.2"
  }
 },
 "nbformat": 4,
 "nbformat_minor": 5
}
