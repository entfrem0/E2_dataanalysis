{
 "cells": [
  {
   "cell_type": "markdown",
   "metadata": {},
   "source": [
    "# FP-1:  Final Project Proposal\n",
    "\n",
    "\n",
    "Instructions:\n",
    "- Find a dataset as described in class\n",
    "- Fill in all <span style=\"color:blue\">blue text fields</span> below;  also follow the Example Proposal below\n",
    "- Delete this Markdown cell and all Example Proposal Markdown cells\n",
    "\n"
   ]
  },
  {
   "cell_type": "markdown",
   "metadata": {},
   "source": [
    "___\n",
    "\n",
    "# <span style=\"color:blue\">Computational Fluid Dynamics</span>\n",
    "\n",
    "\n",
    "### Overview:\n",
    "\n",
    "* **Name**:  <span style=\"color:blue\">Yuma Kanogi</span>\n",
    "* **Student number**:  <span style=\"color:blue\">1023334714</span>\n",
    "\n",
    "<br>"
   ]
  },
  {
   "cell_type": "markdown",
   "metadata": {},
   "source": [
    "### Purpose:\n",
    "\n",
    "* <span style=\"color:blue\">My major involves Computational Fluid Dynamics (CFD) and data analysis of fluid flow behavior.</span>\n",
    "* <span style=\"color:blue\">The key dependent variables (DVs) are the velocity components (u, v) and pressure (p), which describe the state of the flow field.</span>\n",
    "* <span style=\"color:blue\">The key independent variables (IVs) are the spatial coordinates (x, y), time (t), and their spatial derivatives (dudx, dudy, dvdx, dvdy) that define the flow conditions.</span>\n",
    "* <span style=\"color:blue\">The dataset contains 10,000 cases, evenly divided into 5,000 laminar and 5,000 turbulent flow samples. It includes 3 dependent variables and 7 independent variables, providing a rich basis for fluid dynamics modeling and Physics-Informed Neural Network (PINN) training.</span>\n",
    "\n",
    "<br>"
   ]
  },
  {
   "cell_type": "markdown",
   "metadata": {},
   "source": [
    "### Dataset source:\n",
    "\n",
    "<span style=\"color:blue\">The data can be downloaded [here](https://www.kaggle.com/datasets/allanwandia/computational-fluid-dynamics/data)</span>\n",
    "\n",
    "<br>\n",
    "<br>\n",
    "<br>\n",
    "<br>"
   ]
  },
  {
   "cell_type": "markdown",
   "metadata": {},
   "source": [
    "___\n",
    "\n",
    "### <span style=\"color:red\">Example proposal:</span>\n",
    "\n",
    "<br>\n",
    "\n",
    "# Analysis of factors contributing to red wine quality\n",
    "\n",
    "\n",
    "* **Name**:  Taro KYODAI\n",
    "* **Student number**:  123456789\n",
    "\n",
    "<br>"
   ]
  },
  {
   "cell_type": "markdown",
   "metadata": {},
   "source": [
    "### Purpose:\n",
    "\n",
    "* The purpose of this Final Project is to determine the factors that contribute to red wine quality.\n",
    "* The key **dependent variable** (DV) is wine quality, an integer between 0 and 10, as judged by experts.\n",
    "* Key **independent variables** (IVs) include:\n",
    "    * fixed acidity\n",
    "    * volatile acidity\n",
    "    * citric acid\n",
    "    * residual sugar\n",
    "    * chlorides\n",
    "    * free sulfur dioxide\n",
    "    * total sulfur dioxide\n",
    "    * density\n",
    "    * pH\n",
    "    * sulphates\n",
    "    * alcohol\n",
    "* This dataset contains 1599 cases (i.e., 1599 different red wines). Each wine has values for all IVs as well as the DV.\n",
    "<br>"
   ]
  },
  {
   "cell_type": "markdown",
   "metadata": {},
   "source": [
    "### Dataset source:\n",
    "\n",
    "The data come from the [wine quality](https://archive.ics.uci.edu/ml/datasets/Wine+Quality) dataset from the [UCI Machine Learning repository](https://archive.ics.uci.edu/ml/index.php):\n",
    "\n",
    "The data are available for download [here](https://archive.ics.uci.edu/ml/machine-learning-databases/wine-quality/).\n",
    "\n",
    "Analyses of this dataset have been published previously in Cortez et al. (2009).\n",
    "\n",
    "\n",
    "#### References:\n",
    "\n",
    "P. Cortez, A. Cerdeira, F. Almeida, T. Matos and J. Reis (2009). Modeling wine preferences by data mining from physicochemical properties. In: Decision Support Systems, Elsevier, 47(4):547-553.\n",
    "doi: [10.1016/j.dss.2009.05.016](https://doi.org/10.1016/j.dss.2009.05.016)\n"
   ]
  }
 ],
 "metadata": {
  "kernelspec": {
   "display_name": "Python 3 (ipykernel)",
   "language": "python",
   "name": "python3"
  },
  "language_info": {
   "codemirror_mode": {
    "name": "ipython",
    "version": 3
   },
   "file_extension": ".py",
   "mimetype": "text/x-python",
   "name": "python",
   "nbconvert_exporter": "python",
   "pygments_lexer": "ipython3",
   "version": "3.12.7"
  }
 },
 "nbformat": 4,
 "nbformat_minor": 4
}
