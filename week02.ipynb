{
 "cells": [
  {
   "cell_type": "markdown",
   "id": "67a5c07d",
   "metadata": {},
   "source": [
    "# Math"
   ]
  },
  {
   "cell_type": "code",
   "execution_count": 10,
   "id": "93906d5d",
   "metadata": {},
   "outputs": [
    {
     "name": "stdout",
     "output_type": "stream",
     "text": [
      "Hello world!\n"
     ]
    }
   ],
   "source": [
    "print( \"Hello world!\" )"
   ]
  },
  {
   "cell_type": "code",
   "execution_count": 11,
   "id": "da7633da",
   "metadata": {},
   "outputs": [
    {
     "name": "stdout",
     "output_type": "stream",
     "text": [
      "3\n"
     ]
    }
   ],
   "source": [
    "print( 1 + 2)"
   ]
  },
  {
   "cell_type": "code",
   "execution_count": 12,
   "id": "6c368331",
   "metadata": {},
   "outputs": [
    {
     "name": "stdout",
     "output_type": "stream",
     "text": [
      "-4\n"
     ]
    }
   ],
   "source": [
    "print( 1 - 5)"
   ]
  },
  {
   "cell_type": "code",
   "execution_count": 13,
   "id": "ad7a05a1",
   "metadata": {},
   "outputs": [
    {
     "name": "stdout",
     "output_type": "stream",
     "text": [
      "20\n",
      "0.8\n",
      "9\n",
      "5.0\n"
     ]
    }
   ],
   "source": [
    "print( 4 * 5 )\n",
    "print( 4 / 5 )\n",
    "print ( 3 ** 2 )\n",
    "print ( 25 ** 0.5 )"
   ]
  },
  {
   "cell_type": "markdown",
   "id": "752e88db",
   "metadata": {},
   "source": [
    "### Order of operations"
   ]
  },
  {
   "cell_type": "code",
   "execution_count": 14,
   "id": "3dc2b467",
   "metadata": {},
   "outputs": [
    {
     "name": "stdout",
     "output_type": "stream",
     "text": [
      "7\n",
      "7\n",
      "9\n"
     ]
    }
   ],
   "source": [
    "print( 1 + 2 * 3)\n",
    "print(1 + (2 * 3))\n",
    "print( (1 + 2) * 3)"
   ]
  },
  {
   "cell_type": "markdown",
   "id": "19815636",
   "metadata": {},
   "source": [
    "### Veriables\n",
    "\n",
    "A variable is a symbol that contains data."
   ]
  },
  {
   "cell_type": "code",
   "execution_count": 8,
   "id": "6e250a33",
   "metadata": {},
   "outputs": [
    {
     "name": "stdout",
     "output_type": "stream",
     "text": [
      "1\n",
      "10\n",
      "10001\n"
     ]
    }
   ],
   "source": [
    "x = 1\n",
    "y = 10\n",
    "z = 10001\n",
    "print(x)\n",
    "print(y)\n",
    "print(z)"
   ]
  },
  {
   "cell_type": "code",
   "execution_count": 9,
   "id": "efaabd39",
   "metadata": {},
   "outputs": [
    {
     "name": "stdout",
     "output_type": "stream",
     "text": [
      "1 10 10001\n"
     ]
    }
   ],
   "source": [
    "print(x,y,z)"
   ]
  },
  {
   "cell_type": "code",
   "execution_count": 17,
   "id": "cda68b7f",
   "metadata": {},
   "outputs": [
    {
     "name": "stdout",
     "output_type": "stream",
     "text": [
      "11\n",
      "11\n"
     ]
    }
   ],
   "source": [
    "print(x + y)\n",
    "a = x + y\n",
    "print(a)"
   ]
  },
  {
   "cell_type": "markdown",
   "id": "795569e9",
   "metadata": {},
   "source": [
    "### Dynamic typing ( type of variable)"
   ]
  },
  {
   "cell_type": "code",
   "execution_count": 19,
   "id": "acc16131",
   "metadata": {},
   "outputs": [
    {
     "name": "stdout",
     "output_type": "stream",
     "text": [
      "2 <class 'int'>\n",
      "2.7 <class 'float'>\n",
      "Hello! <class 'str'>\n"
     ]
    }
   ],
   "source": [
    "x = 2\n",
    "print(x, type(x))\n",
    "\n",
    "x = 2.7\n",
    "print(x, type(x))\n",
    "\n",
    "x= \"Hello!\"\n",
    "print(x, type(x))"
   ]
  },
  {
   "cell_type": "markdown",
   "id": "552af9fe",
   "metadata": {},
   "source": [
    "### Variable names\n",
    "\n",
    "- contain only lower-case letters (abcde... NOT ABCDE...) case-sensitive\n",
    "- multi-name variables should be separated with underscores `_`"
   ]
  },
  {
   "cell_type": "code",
   "execution_count": 25,
   "id": "0c479507",
   "metadata": {},
   "outputs": [
    {
     "name": "stdout",
     "output_type": "stream",
     "text": [
      "1 10 200\n"
     ]
    }
   ],
   "source": [
    "x0 = 1\n",
    "x1 = 10\n",
    "x2 = 200\n",
    "print(x0, x1, x2)"
   ]
  },
  {
   "cell_type": "code",
   "execution_count": 26,
   "id": "9b27f293",
   "metadata": {},
   "outputs": [
    {
     "ename": "SyntaxError",
     "evalue": "invalid hexadecimal literal (1198918811.py, line 1)",
     "output_type": "error",
     "traceback": [
      "  \u001b[36mCell\u001b[39m\u001b[36m \u001b[39m\u001b[32mIn[26]\u001b[39m\u001b[32m, line 1\u001b[39m\n\u001b[31m    \u001b[39m\u001b[31m0x = 100\u001b[39m\n     ^\n\u001b[31mSyntaxError\u001b[39m\u001b[31m:\u001b[39m invalid hexadecimal literal\n"
     ]
    }
   ],
   "source": [
    "0x = 100"
   ]
  },
  {
   "cell_type": "code",
   "execution_count": null,
   "id": "8d19125e",
   "metadata": {},
   "outputs": [
    {
     "name": "stdout",
     "output_type": "stream",
     "text": [
      "100\n",
      "10\n"
     ]
    }
   ],
   "source": [
    "a = 1\n",
    "x = 10\n",
    "ABC = 100 # not an error, but not Python convention\n",
    "\n",
    "print(ABC)\n",
    "\n",
    "my_favorite_ice_cream = 10\n",
    "\n",
    "print( my_favorite_ice_cream )"
   ]
  },
  {
   "cell_type": "markdown",
   "id": "7e1d83a3",
   "metadata": {},
   "source": [
    "# Lists and tuples\n",
    "\n",
    "A list contains multiple variabls in a sequence\n",
    "\n",
    "A tuple is a list cannot be changed"
   ]
  },
  {
   "cell_type": "code",
   "execution_count": 30,
   "id": "76cf2f1b",
   "metadata": {},
   "outputs": [
    {
     "name": "stdout",
     "output_type": "stream",
     "text": [
      "[0, 5, 8]\n",
      "<class 'list'>\n",
      "(0, 5, 8)\n",
      "<class 'tuple'>\n"
     ]
    }
   ],
   "source": [
    "x = [0,5,8]\n",
    "y = (0,5,8)\n",
    "\n",
    "print(x)\n",
    "print(type(x))\n",
    "\n",
    "print(y)\n",
    "print(type(y))"
   ]
  },
  {
   "cell_type": "code",
   "execution_count": null,
   "id": "8806a4ce",
   "metadata": {},
   "outputs": [
    {
     "name": "stdout",
     "output_type": "stream",
     "text": [
      "0\n",
      "5\n",
      "8\n"
     ]
    }
   ],
   "source": [
    "x = [0,5,8]\n",
    "\n",
    "print(x[0]) # first element of x; \"zero indexing\"\n",
    "print(x[1]) # second\n",
    "print(x[2]) # third"
   ]
  },
  {
   "cell_type": "code",
   "execution_count": 32,
   "id": "6c92747b",
   "metadata": {},
   "outputs": [
    {
     "ename": "SyntaxError",
     "evalue": "closing parenthesis '}' does not match opening parenthesis '[' (3294411511.py, line 1)",
     "output_type": "error",
     "traceback": [
      "  \u001b[36mCell\u001b[39m\u001b[36m \u001b[39m\u001b[32mIn[32]\u001b[39m\u001b[32m, line 1\u001b[39m\n\u001b[31m    \u001b[39m\u001b[31mprint(x[3})\u001b[39m\n             ^\n\u001b[31mSyntaxError\u001b[39m\u001b[31m:\u001b[39m closing parenthesis '}' does not match opening parenthesis '['\n"
     ]
    }
   ],
   "source": [
    "print(x[3})"
   ]
  },
  {
   "cell_type": "code",
   "execution_count": 35,
   "id": "56fdda23",
   "metadata": {},
   "outputs": [
    {
     "name": "stdout",
     "output_type": "stream",
     "text": [
      "8\n",
      "5\n",
      "0\n"
     ]
    }
   ],
   "source": [
    "print(x[-1]) # last element\n",
    "print(x[-2]) # second last element\n",
    "print(x[-3]) # third last element"
   ]
  },
  {
   "cell_type": "code",
   "execution_count": 36,
   "id": "814b0bd6",
   "metadata": {},
   "outputs": [
    {
     "ename": "IndexError",
     "evalue": "list index out of range",
     "output_type": "error",
     "traceback": [
      "\u001b[31m---------------------------------------------------------------------------\u001b[39m",
      "\u001b[31mIndexError\u001b[39m                                Traceback (most recent call last)",
      "\u001b[36mCell\u001b[39m\u001b[36m \u001b[39m\u001b[32mIn[36]\u001b[39m\u001b[32m, line 1\u001b[39m\n\u001b[32m----> \u001b[39m\u001b[32m1\u001b[39m \u001b[38;5;28mprint\u001b[39m(\u001b[43mx\u001b[49m\u001b[43m[\u001b[49m\u001b[43m-\u001b[49m\u001b[32;43m4\u001b[39;49m\u001b[43m]\u001b[49m)\n",
      "\u001b[31mIndexError\u001b[39m: list index out of range"
     ]
    }
   ],
   "source": [
    "print(x[-4])"
   ]
  },
  {
   "cell_type": "code",
   "execution_count": 37,
   "id": "c56a5cac",
   "metadata": {},
   "outputs": [
    {
     "name": "stdout",
     "output_type": "stream",
     "text": [
      "[2000, 10, 100]\n"
     ]
    }
   ],
   "source": [
    "x = [0,10,100]\n",
    "x[0] = 2000\n",
    "\n",
    "print(x)"
   ]
  },
  {
   "cell_type": "code",
   "execution_count": 38,
   "id": "d6c4ad87",
   "metadata": {},
   "outputs": [
    {
     "name": "stdout",
     "output_type": "stream",
     "text": [
      "0\n"
     ]
    }
   ],
   "source": [
    "x = (0,10,100)\n",
    "print(x[0])"
   ]
  },
  {
   "cell_type": "code",
   "execution_count": 39,
   "id": "c355f356",
   "metadata": {},
   "outputs": [
    {
     "ename": "TypeError",
     "evalue": "'tuple' object is not callable",
     "output_type": "error",
     "traceback": [
      "\u001b[31m---------------------------------------------------------------------------\u001b[39m",
      "\u001b[31mTypeError\u001b[39m                                 Traceback (most recent call last)",
      "\u001b[36mCell\u001b[39m\u001b[36m \u001b[39m\u001b[32mIn[39]\u001b[39m\u001b[32m, line 1\u001b[39m\n\u001b[32m----> \u001b[39m\u001b[32m1\u001b[39m \u001b[38;5;28mprint\u001b[39m(\u001b[43mx\u001b[49m\u001b[43m(\u001b[49m\u001b[32;43m0\u001b[39;49m\u001b[43m)\u001b[49m)\n",
      "\u001b[31mTypeError\u001b[39m: 'tuple' object is not callable"
     ]
    }
   ],
   "source": [
    "print(x(0))"
   ]
  },
  {
   "cell_type": "code",
   "execution_count": 41,
   "id": "9cd31f86",
   "metadata": {},
   "outputs": [
    {
     "ename": "TypeError",
     "evalue": "'tuple' object does not support item assignment",
     "output_type": "error",
     "traceback": [
      "\u001b[31m---------------------------------------------------------------------------\u001b[39m",
      "\u001b[31mTypeError\u001b[39m                                 Traceback (most recent call last)",
      "\u001b[36mCell\u001b[39m\u001b[36m \u001b[39m\u001b[32mIn[41]\u001b[39m\u001b[32m, line 2\u001b[39m\n\u001b[32m      1\u001b[39m x = (\u001b[32m0\u001b[39m,\u001b[32m10\u001b[39m,\u001b[32m100\u001b[39m)\n\u001b[32m----> \u001b[39m\u001b[32m2\u001b[39m \u001b[43mx\u001b[49m\u001b[43m[\u001b[49m\u001b[32;43m0\u001b[39;49m\u001b[43m]\u001b[49m = \u001b[32m100\u001b[39m\n",
      "\u001b[31mTypeError\u001b[39m: 'tuple' object does not support item assignment"
     ]
    }
   ],
   "source": [
    "x = (0,10,100)\n",
    "x[0] = 100"
   ]
  },
  {
   "cell_type": "code",
   "execution_count": null,
   "id": "a5009374",
   "metadata": {},
   "outputs": [],
   "source": [
    "g = (0,0,-9.812) #gravity vector does not change, so use a tuple"
   ]
  },
  {
   "cell_type": "markdown",
   "id": "441f82c0",
   "metadata": {},
   "source": [
    "# Arrays\n",
    "\n",
    "Creating arrays is usually done in Python using the Numpy package\n",
    "\n",
    "Numpy: Numerical Python\n",
    "\n",
    "- A package is like a library, containing several programming tools like functions and variables\n",
    "- Package must be accessed using the \"import\" command in Python"
   ]
  },
  {
   "cell_type": "code",
   "execution_count": 1,
   "id": "672e7a78",
   "metadata": {},
   "outputs": [
    {
     "name": "stdout",
     "output_type": "stream",
     "text": [
      "[0 5 8] <class 'numpy.ndarray'>\n"
     ]
    }
   ],
   "source": [
    "import numpy\n",
    "x = numpy.array( [0,5,8])\n",
    "\n",
    "print(x, type(x)) # n-dimensional array"
   ]
  },
  {
   "cell_type": "code",
   "execution_count": 2,
   "id": "c435d8c8",
   "metadata": {},
   "outputs": [
    {
     "name": "stdout",
     "output_type": "stream",
     "text": [
      "0\n",
      "5\n"
     ]
    }
   ],
   "source": [
    "print(x[0])\n",
    "print(x[1])"
   ]
  },
  {
   "cell_type": "code",
   "execution_count": 3,
   "id": "969e572b",
   "metadata": {},
   "outputs": [
    {
     "name": "stdout",
     "output_type": "stream",
     "text": [
      "[1 6 9]\n"
     ]
    }
   ],
   "source": [
    "print(x+1)"
   ]
  },
  {
   "cell_type": "code",
   "execution_count": 4,
   "id": "4ae46e7b",
   "metadata": {},
   "outputs": [
    {
     "ename": "TypeError",
     "evalue": "can only concatenate list (not \"int\") to list",
     "output_type": "error",
     "traceback": [
      "\u001b[31m---------------------------------------------------------------------------\u001b[39m",
      "\u001b[31mTypeError\u001b[39m                                 Traceback (most recent call last)",
      "\u001b[36mCell\u001b[39m\u001b[36m \u001b[39m\u001b[32mIn[4]\u001b[39m\u001b[32m, line 2\u001b[39m\n\u001b[32m      1\u001b[39m a = [\u001b[32m0\u001b[39m,\u001b[32m5\u001b[39m,\u001b[32m8\u001b[39m]\n\u001b[32m----> \u001b[39m\u001b[32m2\u001b[39m \u001b[38;5;28mprint\u001b[39m(\u001b[43ma\u001b[49m\u001b[43m+\u001b[49m\u001b[32;43m1\u001b[39;49m)\n",
      "\u001b[31mTypeError\u001b[39m: can only concatenate list (not \"int\") to list"
     ]
    }
   ],
   "source": [
    "a = [0,5,8]\n",
    "print(a+1)"
   ]
  },
  {
   "cell_type": "code",
   "execution_count": 5,
   "id": "09910153",
   "metadata": {},
   "outputs": [
    {
     "name": "stdout",
     "output_type": "stream",
     "text": [
      "[10 11  5]\n"
     ]
    }
   ],
   "source": [
    "import numpy as np\n",
    "\n",
    "a = np.array([0,1,5])\n",
    "b = np.array([10,10,0])\n",
    "\n",
    "print(a + b)\n"
   ]
  },
  {
   "cell_type": "code",
   "execution_count": 6,
   "id": "b13c5a6d",
   "metadata": {},
   "outputs": [
    {
     "name": "stdout",
     "output_type": "stream",
     "text": [
      "[0, 1, 5, 10, 10, 0]\n"
     ]
    }
   ],
   "source": [
    "c = [0,1,5]\n",
    "d = [10,10,0]\n",
    "\n",
    "print(c + d)\n"
   ]
  },
  {
   "cell_type": "markdown",
   "id": "2346a953",
   "metadata": {},
   "source": [
    "# Functions\n",
    "\n",
    "A function accepts input variable (called \"input argumants\"), performs calculations, and then returns output variables (called \"output arguments\") to the caller."
   ]
  },
  {
   "cell_type": "code",
   "execution_count": 7,
   "id": "a59909df",
   "metadata": {},
   "outputs": [
    {
     "name": "stdout",
     "output_type": "stream",
     "text": [
      "11\n"
     ]
    }
   ],
   "source": [
    "def my_function(x):\n",
    "    y = x + 1\n",
    "    return y\n",
    "\n",
    "print ( my_function(10))"
   ]
  },
  {
   "cell_type": "markdown",
   "id": "11c8817d",
   "metadata": {},
   "source": [
    "- `def` : define function\n",
    "- `my_function` : is the function name (should be named like variable names by convention)\n",
    "- `x` : input argument\n",
    "- `y` : output argument\n",
    "- `return` : indicates that the function is finished"
   ]
  },
  {
   "cell_type": "code",
   "execution_count": 8,
   "id": "f74dd566",
   "metadata": {},
   "outputs": [
    {
     "name": "stdout",
     "output_type": "stream",
     "text": [
      "2 100\n"
     ]
    }
   ],
   "source": [
    "def my_function(x,y):\n",
    "    z = x + y\n",
    "    q = 100\n",
    "    return y,q\n",
    "\n",
    "a,b = my_function(1,2)\n",
    "print(a,b)"
   ]
  }
 ],
 "metadata": {
  "kernelspec": {
   "display_name": ".venv",
   "language": "python",
   "name": "python3"
  },
  "language_info": {
   "codemirror_mode": {
    "name": "ipython",
    "version": 3
   },
   "file_extension": ".py",
   "mimetype": "text/x-python",
   "name": "python",
   "nbconvert_exporter": "python",
   "pygments_lexer": "ipython3",
   "version": "3.12.2"
  }
 },
 "nbformat": 4,
 "nbformat_minor": 5
}
